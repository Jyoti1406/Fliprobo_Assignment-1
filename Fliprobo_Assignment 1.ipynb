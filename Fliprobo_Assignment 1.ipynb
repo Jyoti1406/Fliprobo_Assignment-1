{
 "cells": [
  {
   "cell_type": "markdown",
   "id": "f8122744",
   "metadata": {},
   "source": [
    "# Q no- 1"
   ]
  },
  {
   "cell_type": "code",
   "execution_count": 6,
   "id": "363c781f",
   "metadata": {},
   "outputs": [
    {
     "name": "stdout",
     "output_type": "stream",
     "text": [
      "15\n"
     ]
    }
   ],
   "source": [
    "def func(a,b):\n",
    "    return b if a == 0 else func(b % a , a)\n",
    "print(func(30,75))"
   ]
  },
  {
   "cell_type": "code",
   "execution_count": null,
   "id": "7f6466a4",
   "metadata": {},
   "outputs": [],
   "source": [
    "# Q no-2,"
   ]
  },
  {
   "cell_type": "code",
   "execution_count": 6,
   "id": "3b374a60",
   "metadata": {},
   "outputs": [
    {
     "name": "stdout",
     "output_type": "stream",
     "text": [
      "<class 'filter'>\n"
     ]
    }
   ],
   "source": [
    "Ans = (4,7,19,2,89,45,72,22)\n",
    "\n",
    "sorted_num = sorted(Ans)\n",
    "\n",
    "even = lambda a:a% 2 == 0\n",
    "\n",
    "even_num = filter(even , sorted_num)\n",
    "\n",
    "print(type(even_num))\n"
   ]
  },
  {
   "cell_type": "code",
   "execution_count": null,
   "id": "4de70e0e",
   "metadata": {},
   "outputs": [],
   "source": [
    "# Q No-3) As what datatype are the *args stored, when passed into\n",
    "\n",
    "Ans - a) Tuple"
   ]
  },
  {
   "cell_type": "code",
   "execution_count": null,
   "id": "41cc59ce",
   "metadata": {},
   "outputs": [],
   "source": [
    "# Q no-4\n",
    "\n",
    "# Ans -  d) Error"
   ]
  },
  {
   "cell_type": "code",
   "execution_count": 7,
   "id": "9d421726",
   "metadata": {},
   "outputs": [
    {
     "ename": "TypeError",
     "evalue": "unsupported operand type(s) for +: 'set' and 'set'",
     "output_type": "error",
     "traceback": [
      "\u001b[1;31m---------------------------------------------------------------------------\u001b[0m",
      "\u001b[1;31mTypeError\u001b[0m                                 Traceback (most recent call last)",
      "Cell \u001b[1;32mIn[7], line 4\u001b[0m\n\u001b[0;32m      2\u001b[0m set2 \u001b[38;5;241m=\u001b[39m {\u001b[38;5;241m82\u001b[39m,\u001b[38;5;241m49\u001b[39m,\u001b[38;5;241m62\u001b[39m}\n\u001b[0;32m      3\u001b[0m set3 \u001b[38;5;241m=\u001b[39m {\u001b[38;5;241m99\u001b[39m,\u001b[38;5;241m22\u001b[39m,\u001b[38;5;241m17\u001b[39m}\n\u001b[1;32m----> 4\u001b[0m \u001b[38;5;28mprint\u001b[39m(\u001b[38;5;28mlen\u001b[39m(set1\u001b[38;5;241m+\u001b[39mset2\u001b[38;5;241m+\u001b[39mset3))\n",
      "\u001b[1;31mTypeError\u001b[0m: unsupported operand type(s) for +: 'set' and 'set'"
     ]
    }
   ],
   "source": [
    "set1 = {14,3,55}\n",
    "set2 = {82,49,62}\n",
    "set3 = {99,22,17}\n",
    "print(len(set1+set2+set3))"
   ]
  },
  {
   "cell_type": "code",
   "execution_count": null,
   "id": "4c3c2897",
   "metadata": {},
   "outputs": [],
   "source": [
    "# Q no- 5) What keyword is used in Python to raise exceptions\n",
    "\n",
    "Ans - a) raise"
   ]
  },
  {
   "cell_type": "code",
   "execution_count": null,
   "id": "506d931a",
   "metadata": {},
   "outputs": [],
   "source": [
    "# Q no - 6) Which of the following modules need to be imported to handle date time computations in Python\n",
    "\n",
    "# Ans - c) datetime"
   ]
  },
  {
   "cell_type": "code",
   "execution_count": null,
   "id": "7789af48",
   "metadata": {},
   "outputs": [],
   "source": [
    "# Q. no- 7) What will be the output of the following code snippet\n"
   ]
  },
  {
   "cell_type": "code",
   "execution_count": 8,
   "id": "7e7f0c21",
   "metadata": {},
   "outputs": [
    {
     "name": "stdout",
     "output_type": "stream",
     "text": [
      "<class 'filter'>\n"
     ]
    }
   ],
   "source": [
    "Ans = (4,7,19,2,89,45,72,22)\n",
    "\n",
    "sorted_num = sorted(Ans)\n",
    "\n",
    "even = lambda a:a% 2 == 0\n",
    "\n",
    "even_num = filter(even , sorted_num)\n",
    "\n",
    "print(type(even_num))"
   ]
  },
  {
   "cell_type": "code",
   "execution_count": null,
   "id": "cc347a60",
   "metadata": {},
   "outputs": [],
   "source": [
    "# Q no- 8) Which of the following functions converts date to corresponding time in Python\n",
    "\n",
    "Ans - d) None"
   ]
  },
  {
   "cell_type": "code",
   "execution_count": null,
   "id": "a7276342",
   "metadata": {},
   "outputs": [],
   "source": [
    "# Q no- 9) The python tuple is _____ in nature\n",
    "\n",
    "# Ans - b) immutable"
   ]
  },
  {
   "cell_type": "code",
   "execution_count": null,
   "id": "ef75d2ad",
   "metadata": {},
   "outputs": [],
   "source": [
    "# Q no - 10) The ___ is a built-in function that returns a range object that consists series of integer numbers, which we can iterate using a for loop\n",
    "\n",
    "Ans - A. range()"
   ]
  },
  {
   "cell_type": "code",
   "execution_count": null,
   "id": "14713374",
   "metadata": {},
   "outputs": [],
   "source": [
    "# Q no- 11) Amongst which of the following is a function which does not have any name\n",
    "\n",
    "Ans - C. Lambda function"
   ]
  },
  {
   "cell_type": "code",
   "execution_count": null,
   "id": "e91d3241",
   "metadata": {},
   "outputs": [],
   "source": [
    "# Q no - 13) Amongst which of the following is / are the method of convert Python objects for writing data in a binary file\n",
    "\n",
    "Ans - B. dump() method"
   ]
  },
  {
   "cell_type": "markdown",
   "id": "b07e6e19",
   "metadata": {},
   "source": [
    "# Q no- 14 \n",
    "  \n",
    "Amongst which of the following is / are the method used to unpickling data from a binary file\n",
    "\n",
    "Ans- A. load()"
   ]
  },
  {
   "cell_type": "code",
   "execution_count": null,
   "id": "6f8122fa",
   "metadata": {},
   "outputs": [],
   "source": []
  },
  {
   "cell_type": "code",
   "execution_count": null,
   "id": "84876d84",
   "metadata": {},
   "outputs": [],
   "source": [
    "# Q no- 15)\n",
    "# A text file contains only textual information consisting of !\n",
    "\n",
    "# Ans - D. All of the mentioned above"
   ]
  },
  {
   "cell_type": "markdown",
   "id": "ffdee247",
   "metadata": {},
   "source": [
    " Q no- 17)  Which of the following lines of code will create an empty dictionary named captains\n",
    "\n",
    "Ans - d) captains = {}"
   ]
  },
  {
   "cell_type": "code",
   "execution_count": 15,
   "id": "a51ec58b",
   "metadata": {},
   "outputs": [],
   "source": [
    "captains = {}"
   ]
  },
  {
   "cell_type": "code",
   "execution_count": 16,
   "id": "929b1958",
   "metadata": {},
   "outputs": [
    {
     "data": {
      "text/plain": [
       "{}"
      ]
     },
     "execution_count": 16,
     "metadata": {},
     "output_type": "execute_result"
    }
   ],
   "source": [
    "captains"
   ]
  },
  {
   "cell_type": "code",
   "execution_count": null,
   "id": "e8cf0409",
   "metadata": {},
   "outputs": [],
   "source": [
    "# Q no -18)\n",
    "\n",
    "# Ans- b) captains[\"Enterprise\"] = \"Picard\"\n",
    "#        captains[\"Voyager\"] = \"Janeway\"\n",
    "#        captains[\"Defiant\"] = \"Sisko\""
   ]
  }
 ],
 "metadata": {
  "kernelspec": {
   "display_name": "Python 3 (ipykernel)",
   "language": "python",
   "name": "python3"
  },
  "language_info": {
   "codemirror_mode": {
    "name": "ipython",
    "version": 3
   },
   "file_extension": ".py",
   "mimetype": "text/x-python",
   "name": "python",
   "nbconvert_exporter": "python",
   "pygments_lexer": "ipython3",
   "version": "3.11.4"
  }
 },
 "nbformat": 4,
 "nbformat_minor": 5
}
